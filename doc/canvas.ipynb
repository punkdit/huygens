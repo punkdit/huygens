{
 "nbformat": 4,
 "nbformat_minor": 5,
 "metadata": {
  "papermill": {
   "default_parameters": {},
   "parameters": {},
   "environment_variables": {},
   "version": "2.4.0",
   "input_path": "canvas.ipynb",
   "output_path": null,
   "start_time": "2022-11-08T17:04:49.257539",
   "end_time": "2022-11-08T17:04:50.178902",
   "duration": 0.921363,
   "exception": null
  },
  "language_info": {
   "name": "python",
   "version": "3.10.6",
   "mimetype": "text/x-python",
   "codemirror_mode": {
    "name": "ipython",
    "version": 3
   },
   "pygments_lexer": "ipython3",
   "nbconvert_exporter": "python",
   "file_extension": ".py"
  }
 },
 "cells": [
  {
   "id": "12fe94e4",
   "cell_type": "markdown",
   "source": "\n## Canvas\n\nThe canvas is a front-end drawing API\nmodelled after the amazing\n[PyX](https://pyx-project.org/) package.\n\nThe canvas coordinates are positive in the\nupper right quadrant.",
   "metadata": {
    "tags": [],
    "papermill": {
     "exception": false,
     "start_time": "2022-11-08T17:04:49.887066",
     "end_time": "2022-11-08T17:04:49.887621",
     "duration": 0.000555,
     "status": "completed"
    }
   }
  },
  {
   "id": "d3d7299d",
   "cell_type": "code",
   "metadata": {
    "tags": [],
    "papermill": {
     "exception": false,
     "start_time": "2022-11-08T17:04:49.888600",
     "end_time": "2022-11-08T17:04:50.036198",
     "duration": 0.147598,
     "status": "completed"
    },
    "execution": {
     "iopub.status.busy": "2022-11-08T17:04:49.899257Z",
     "iopub.execute_input": "2022-11-08T17:04:49.899984Z",
     "iopub.status.idle": "2022-11-08T17:04:50.035806Z",
     "shell.execute_reply": "2022-11-08T17:04:50.036059Z"
    }
   },
   "execution_count": 1,
   "source": "from huygens import canvas, path, color\n\ncvs = canvas.canvas()\ncvs.stroke(path.line(0., 0., 3., 2.))\ncvs.fill(path.circle(3., 2., 0.2), [color.rgb.red])\ncvs.writeSVGfile(\"output.svg\")",
   "outputs": []
  },
  {
   "id": "167678c7",
   "cell_type": "markdown",
   "source": "This produces the following SVG image:",
   "metadata": {
    "tags": [],
    "papermill": {
     "exception": false,
     "start_time": "2022-11-08T17:04:50.036429",
     "end_time": "2022-11-08T17:04:50.036499",
     "duration": 7e-05,
     "status": "completed"
    }
   }
  },
  {
   "id": "268f73f5",
   "cell_type": "code",
   "metadata": {
    "tags": [],
    "papermill": {
     "exception": false,
     "start_time": "2022-11-08T17:04:50.036582",
     "end_time": "2022-11-08T17:04:50.043103",
     "duration": 0.006521,
     "status": "completed"
    },
    "execution": {
     "iopub.status.busy": "2022-11-08T17:04:50.040259Z",
     "iopub.execute_input": "2022-11-08T17:04:50.040477Z",
     "shell.execute_reply": "2022-11-08T17:04:50.042856Z",
     "iopub.status.idle": "2022-11-08T17:04:50.043055Z"
    }
   },
   "execution_count": 2,
   "source": "cvs",
   "outputs": [
    {
     "output_type": "execute_result",
     "metadata": {},
     "data": {
      "text/plain": "Canvas(items=[Compound(items=[Line(address=None, items=[MoveTo(x=0.0, y=0.0), LineTo(x=3.0, y=2.0)]), Stroke()]), Compound(items=[RGBA(cl=(1.0, 0.0, 0.0, 1.0)), Circle(items=[MoveTo(x=3.2, y=2.0), Arc(angle1=0, angle2=6.283185307179586, r=0.2, x=3.0, y=2.0), ClosePath()]), Fill()])])",
      "image/svg+xml": "<?xml version=\"1.0\" encoding=\"UTF-8\"?>\n<svg xmlns=\"http://www.w3.org/2000/svg\" xmlns:xlink=\"http://www.w3.org/1999/xlink\" width=\"92pt\" height=\"64pt\" viewBox=\"0 0 92 64\" version=\"1.1\">\n<g id=\"surface12\">\n<path style=\"fill:none;stroke-width:0.566929;stroke-linecap:butt;stroke-linejoin:miter;stroke:rgb(0%,0%,0%);stroke-opacity:1;stroke-miterlimit:10;\" d=\"M 0 0 L 85.039062 -56.691406 \" transform=\"matrix(1,0,0,1,1,63)\"/>\n<path style=\" stroke:none;fill-rule:evenodd;fill:rgb(100%,0%,0%);fill-opacity:1;\" d=\"M 91.707031 6.308594 C 91.707031 3.175781 89.171875 0.636719 86.039062 0.636719 C 82.910156 0.636719 80.371094 3.175781 80.371094 6.308594 C 80.371094 9.4375 82.910156 11.976562 86.039062 11.976562 C 89.171875 11.976562 91.707031 9.4375 91.707031 6.308594 Z M 91.707031 6.308594 \"/>\n</g>\n</svg>\n",
      "image/png": "[encoded data removed]"
     },
     "execution_count": 2
    }
   ]
  },
  {
   "id": "cfe23947",
   "cell_type": "markdown",
   "source": "The canvas also has a `writePDFfile` method.\n\nUnlike PyX, angles are specified in\nradians in calls to `path.arc` and `trafo.rotate`.",
   "metadata": {
    "tags": [],
    "papermill": {
     "exception": false,
     "start_time": "2022-11-08T17:04:50.043164",
     "end_time": "2022-11-08T17:04:50.043210",
     "duration": 4.6e-05,
     "status": "completed"
    }
   }
  },
  {
   "id": "1b05dbef",
   "cell_type": "code",
   "metadata": {
    "tags": [],
    "papermill": {
     "exception": false,
     "start_time": "2022-11-08T17:04:50.043258",
     "end_time": "2022-11-08T17:04:50.057448",
     "duration": 0.01419,
     "status": "completed"
    },
    "execution": {
     "iopub.status.busy": "2022-11-08T17:04:50.044149Z",
     "iopub.execute_input": "2022-11-08T17:04:50.054829Z",
     "shell.execute_reply": "2022-11-08T17:04:50.057197Z",
     "iopub.status.idle": "2022-11-08T17:04:50.057396Z"
    }
   },
   "execution_count": 3,
   "source": "from math import pi\nfrom huygens import style, trafo, linestyle\n\ncvs = canvas.canvas()\n\ncvs.stroke(path.circle(0., 0., 1.),\n    [style.linewidth.thick, color.rgb.blue, linestyle.dashed])\ncvs.text(0., 0., \"hey there!\", [trafo.rotate(0.5*pi)])",
   "outputs": [
    {
     "output_type": "execute_result",
     "metadata": {},
     "data": {
      "text/plain": "Canvas(items=[Compound(items=[LineWidth(lw=0.028284271247461905), RGBA(cl=(0.0, 0.0, 1.0, 1.0)), CompoundDeco(decos=[LineCap(desc=BUTT), LineDash(dashes=[2], offset=0)]), Circle(address=None, items=[MoveTo(x=1.0, y=0.0), Arc(angle1=0, angle2=6.283185307179586, r=1.0, x=0.0, y=0.0), ClosePath()]), Stroke()]), Compound(items=[Translate(dx=0.0, dy=0.0), Rotate(angle=1.5707963267948966, x=0.0, y=0.0), CairoText(color=None, text=hey there!, x=0.0, y=0.0)])])",
      "image/svg+xml": "<?xml version=\"1.0\" encoding=\"UTF-8\"?>\n<svg xmlns=\"http://www.w3.org/2000/svg\" xmlns:xlink=\"http://www.w3.org/1999/xlink\" width=\"58pt\" height=\"79pt\" viewBox=\"0 0 58 79\" version=\"1.1\">\n<defs>\n<g>\n<symbol overflow=\"visible\" id=\"glyph0-0\">\n<path style=\"stroke:none;\" d=\"M -1.765625 0.5 L 7.046875 0.5 L 7.046875 5.5 L -1.765625 5.5 Z M -1.21875 1.0625 L -1.21875 4.9375 L 6.484375 4.9375 L 6.484375 1.0625 Z M -1.21875 1.0625 \"/>\n</symbol>\n<symbol overflow=\"visible\" id=\"glyph0-1\">\n<path style=\"stroke:none;\" d=\"M 3.296875 5.484375 L 0 5.484375 L 0 4.59375 L 3.265625 4.59375 C 3.785156 4.59375 4.171875 4.488281 4.421875 4.28125 C 4.679688 4.082031 4.8125 3.78125 4.8125 3.375 C 4.8125 2.894531 4.65625 2.515625 4.34375 2.234375 C 4.039062 1.953125 3.625 1.8125 3.09375 1.8125 L 0 1.8125 L 0 0.90625 L 7.59375 0.90625 L 7.59375 1.8125 L 4.625 1.8125 C 4.945312 2.03125 5.1875 2.285156 5.34375 2.578125 C 5.507812 2.867188 5.59375 3.203125 5.59375 3.578125 C 5.59375 4.203125 5.398438 4.675781 5.015625 5 C 4.628906 5.320312 4.054688 5.484375 3.296875 5.484375 Z M 3.296875 5.484375 \"/>\n</symbol>\n<symbol overflow=\"visible\" id=\"glyph0-2\">\n<path style=\"stroke:none;\" d=\"M 2.953125 5.625 L 2.515625 5.625 L 2.515625 1.484375 C 1.898438 1.523438 1.429688 1.710938 1.109375 2.046875 C 0.785156 2.378906 0.625 2.84375 0.625 3.4375 C 0.625 3.78125 0.664062 4.113281 0.75 4.4375 C 0.832031 4.769531 0.957031 5.09375 1.125 5.40625 L 0.28125 5.40625 C 0.144531 5.082031 0.0390625 4.75 -0.03125 4.40625 C -0.101562 4.070312 -0.140625 3.734375 -0.140625 3.390625 C -0.140625 2.515625 0.109375 1.820312 0.609375 1.3125 C 1.117188 0.800781 1.8125 0.546875 2.6875 0.546875 C 3.582031 0.546875 4.289062 0.785156 4.8125 1.265625 C 5.332031 1.753906 5.59375 2.410156 5.59375 3.234375 C 5.59375 3.972656 5.359375 4.554688 4.890625 4.984375 C 4.421875 5.410156 3.773438 5.625 2.953125 5.625 Z M 3.21875 4.71875 C 3.707031 4.71875 4.097656 4.582031 4.390625 4.3125 C 4.691406 4.039062 4.84375 3.6875 4.84375 3.25 C 4.84375 2.738281 4.695312 2.332031 4.40625 2.03125 C 4.125 1.738281 3.726562 1.566406 3.21875 1.515625 Z M 3.21875 4.71875 \"/>\n</symbol>\n<symbol overflow=\"visible\" id=\"glyph0-3\">\n<path style=\"stroke:none;\" d=\"M -0.515625 3.21875 C -1.160156 2.96875 -1.582031 2.71875 -1.78125 2.46875 C -1.976562 2.226562 -2.078125 1.910156 -2.078125 1.515625 L -2.078125 0.796875 L -1.328125 0.796875 L -1.328125 1.3125 C -1.328125 1.5625 -1.269531 1.753906 -1.15625 1.890625 C -1.039062 2.023438 -0.765625 2.175781 -0.328125 2.34375 L 0.09375 2.515625 L 5.46875 0.296875 L 5.46875 1.25 L 1.1875 2.953125 L 5.46875 4.671875 L 5.46875 5.625 Z M -0.515625 3.21875 \"/>\n</symbol>\n<symbol overflow=\"visible\" id=\"glyph0-4\">\n<path style=\"stroke:none;\" d=\"\"/>\n</symbol>\n<symbol overflow=\"visible\" id=\"glyph0-5\">\n<path style=\"stroke:none;\" d=\"M 7.015625 1.828125 L 5.46875 1.828125 L 5.46875 3.6875 L 4.765625 3.6875 L 4.765625 1.828125 L 1.796875 1.828125 C 1.359375 1.828125 1.070312 1.890625 0.9375 2.015625 C 0.8125 2.140625 0.75 2.390625 0.75 2.765625 L 0.75 3.6875 L 0 3.6875 L 0 2.765625 C 0 2.066406 0.128906 1.582031 0.390625 1.3125 C 0.648438 1.050781 1.117188 0.921875 1.796875 0.921875 L 4.765625 0.921875 L 4.765625 0.265625 L 5.46875 0.265625 L 5.46875 0.921875 L 7.015625 0.921875 Z M 7.015625 1.828125 \"/>\n</symbol>\n<symbol overflow=\"visible\" id=\"glyph0-6\">\n<path style=\"stroke:none;\" d=\"M 4.625 4.109375 C 4.6875 4.003906 4.726562 3.894531 4.75 3.78125 C 4.78125 3.664062 4.796875 3.535156 4.796875 3.390625 C 4.796875 2.878906 4.628906 2.488281 4.296875 2.21875 C 3.972656 1.945312 3.5 1.8125 2.875 1.8125 L 0 1.8125 L 0 0.90625 L 5.46875 0.90625 L 5.46875 1.8125 L 4.625 1.8125 C 4.957031 2 5.203125 2.242188 5.359375 2.546875 C 5.515625 2.847656 5.59375 3.21875 5.59375 3.65625 C 5.59375 3.71875 5.585938 3.785156 5.578125 3.859375 C 5.578125 3.929688 5.566406 4.015625 5.546875 4.109375 Z M 4.625 4.109375 \"/>\n</symbol>\n<symbol overflow=\"visible\" id=\"glyph0-7\">\n<path style=\"stroke:none;\" d=\"M 1.234375 1.515625 L 1.234375 2.5 L 0 2.5 L 0 1.515625 Z M 7.296875 1.515625 L 7.296875 2.5 L 4.09375 2.5 L 2.34375 2.40625 L 2.34375 1.609375 L 4.09375 1.515625 Z M 7.296875 1.515625 \"/>\n</symbol>\n</g>\n</defs>\n<g id=\"surface25\">\n<path style=\"fill:none;stroke-width:0.801759;stroke-linecap:butt;stroke-linejoin:miter;stroke:rgb(0%,0%,100%);stroke-opacity:1;stroke-dasharray:2.828427;stroke-miterlimit:10;\" d=\"M 28.347656 0 C 28.347656 -15.65625 15.65625 -28.347656 0 -28.347656 C -15.65625 -28.347656 -28.347656 -15.65625 -28.347656 0 C -28.347656 15.65625 -15.65625 28.347656 0 28.347656 C 15.65625 28.347656 28.347656 15.65625 28.347656 0 Z M 28.347656 0 \" transform=\"matrix(1,0,0,1,29,29)\"/>\n<g style=\"fill:rgb(0%,0%,0%);fill-opacity:1;\">\n  <use xlink:href=\"#glyph0-1\" x=\"29\" y=\"29\"/>\n  <use xlink:href=\"#glyph0-2\" x=\"29\" y=\"35.337891\"/>\n  <use xlink:href=\"#glyph0-3\" x=\"29\" y=\"41.490234\"/>\n  <use xlink:href=\"#glyph0-4\" x=\"29\" y=\"47.408203\"/>\n  <use xlink:href=\"#glyph0-5\" x=\"29\" y=\"50.586914\"/>\n  <use xlink:href=\"#glyph0-1\" x=\"29\" y=\"54.507812\"/>\n  <use xlink:href=\"#glyph0-2\" x=\"29\" y=\"60.845703\"/>\n  <use xlink:href=\"#glyph0-6\" x=\"29\" y=\"66.998047\"/>\n  <use xlink:href=\"#glyph0-2\" x=\"29\" y=\"71.109375\"/>\n  <use xlink:href=\"#glyph0-7\" x=\"29\" y=\"77.261719\"/>\n</g>\n</g>\n</svg>\n",
      "image/png": "[encoded data removed]"
     },
     "execution_count": 3
    }
   ]
  },
  {
   "id": "fe7ffed1",
   "cell_type": "markdown",
   "source": "Composite paths are built using the `path.path` constructor:",
   "metadata": {
    "tags": [],
    "papermill": {
     "exception": false,
     "start_time": "2022-11-08T17:04:50.057512",
     "end_time": "2022-11-08T17:04:50.057557",
     "duration": 4.5e-05,
     "status": "completed"
    }
   }
  },
  {
   "id": "5ffe58b0",
   "cell_type": "code",
   "metadata": {
    "tags": [],
    "papermill": {
     "exception": false,
     "start_time": "2022-11-08T17:04:50.057608",
     "end_time": "2022-11-08T17:04:50.062639",
     "duration": 0.005031,
     "status": "completed"
    },
    "execution": {
     "iopub.status.busy": "2022-11-08T17:04:50.060107Z",
     "iopub.execute_input": "2022-11-08T17:04:50.060427Z",
     "shell.execute_reply": "2022-11-08T17:04:50.062245Z",
     "iopub.status.idle": "2022-11-08T17:04:50.062560Z"
    }
   },
   "execution_count": 4,
   "source": "cvs = canvas.canvas()\np = path.path([\n    path.moveto(0., 0.),\n    path.arc(0., 0., 1., 0., 0.5*pi),\n    path.lineto(-1., 1.), path.arc(-1., 0., 1., 0.5*pi, 1.0*pi),\n    path.arc(-1.5, 0., 0.5, 1.0*pi, 2.0*pi), path.closepath() ])\n\ncvs.fill(p, [color.rgb.red, trafo.scale(1.2, 1.2)])\ncvs.stroke(p, [color.rgb.black, style.linewidth.THick])",
   "outputs": [
    {
     "output_type": "execute_result",
     "metadata": {},
     "data": {
      "text/plain": "Canvas(items=[Compound(items=[RGBA(cl=(1.0, 0.0, 0.0, 1.0)), Scale(sx=1.2, sy=1.2, x=0.0, y=0.0), Path(address=None, items=[MoveTo(x=0.0, y=0.0), Arc(angle1=0.0, angle2=1.5707963267948966, r=1.0, x=0.0, y=0.0), LineTo(x=-1.0, y=1.0), Arc(angle1=1.5707963267948966, angle2=3.141592653589793, r=1.0, x=-1.0, y=0.0), Arc(angle1=3.141592653589793, angle2=6.283185307179586, r=0.5, x=-1.5, y=0.0), ClosePath()]), Fill()]), Compound(items=[RGBA(cl=(0.0, 0.0, 0.0, 1.0)), LineWidth(lw=0.05656854249492381), Path(address=None, items=[MoveTo(x=0.0, y=0.0), Arc(angle1=0.0, angle2=1.5707963267948966, r=1.0, x=0.0, y=0.0), LineTo(x=-1.0, y=1.0), Arc(angle1=1.5707963267948966, angle2=3.141592653589793, r=1.0, x=-1.0, y=0.0), Arc(angle1=3.141592653589793, angle2=6.283185307179586, r=0.5, x=-1.5, y=0.0), ClosePath()]), Stroke()])])",
      "image/svg+xml": "<?xml version=\"1.0\" encoding=\"UTF-8\"?>\n<svg xmlns=\"http://www.w3.org/2000/svg\" xmlns:xlink=\"http://www.w3.org/1999/xlink\" width=\"104pt\" height=\"53pt\" viewBox=\"0 0 104 53\" version=\"1.1\">\n<g id=\"surface45\">\n<path style=\" stroke:none;fill-rule:evenodd;fill:rgb(100%,0%,0%);fill-opacity:1;\" d=\"M 69 35 L 103.015625 35 C 103.015625 16.214844 87.785156 0.984375 69 0.984375 L 34.984375 0.984375 C 16.199219 0.984375 0.96875 16.214844 0.96875 35 C 0.96875 44.394531 8.582031 52.007812 17.976562 52.007812 C 27.371094 52.007812 34.984375 44.394531 34.984375 35 Z M 69 35 \"/>\n<path style=\"fill:none;stroke-width:1.603518;stroke-linecap:butt;stroke-linejoin:miter;stroke:rgb(0%,0%,0%);stroke-opacity:1;stroke-miterlimit:10;\" d=\"M 0 0 L 28.347656 0 C 28.347656 -15.65625 15.65625 -28.347656 0 -28.347656 L -28.347656 -28.347656 C -44 -28.347656 -56.691406 -15.65625 -56.691406 0 C -56.691406 7.828125 -50.347656 14.171875 -42.519531 14.171875 C -34.691406 14.171875 -28.347656 7.828125 -28.347656 0 Z M 0 0 \" transform=\"matrix(1,0,0,1,69,35)\"/>\n</g>\n</svg>\n",
      "image/png": "[encoded data removed]"
     },
     "execution_count": 4
    }
   ]
  },
  {
   "id": "7104d501",
   "cell_type": "markdown",
   "source": "Building these paths are easier using\nthe [turtle](test_turtle.html) module.",
   "metadata": {
    "tags": [],
    "papermill": {
     "exception": false,
     "start_time": "2022-11-08T17:04:50.062735",
     "end_time": "2022-11-08T17:04:50.062801",
     "duration": 6.6e-05,
     "status": "completed"
    }
   }
  }
 ]
}